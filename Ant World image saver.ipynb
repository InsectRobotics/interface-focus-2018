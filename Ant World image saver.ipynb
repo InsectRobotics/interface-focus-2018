{
 "cells": [
  {
   "cell_type": "markdown",
   "metadata": {},
   "source": [
    "Here we are saving 360 degree views in a grid across the world, to compare familiarity when using Zernike Moments."
   ]
  },
  {
   "cell_type": "code",
   "execution_count": 1,
   "metadata": {
    "collapsed": false
   },
   "outputs": [],
   "source": [
    "%matplotlib inline\n",
    "%load_ext autoreload\n",
    "%autoreload 2"
   ]
  },
  {
   "cell_type": "code",
   "execution_count": 2,
   "metadata": {
    "collapsed": true
   },
   "outputs": [],
   "source": [
    "import glob\n",
    "import os.path\n",
    "import sys\n",
    "import errno\n",
    "\n",
    "import numpy as np\n",
    "import scipy as sp\n",
    "import scipy.io as sio # To import Matlab stuff\n",
    "import scipy.ndimage\n",
    "import matplotlib.pyplot as plt\n",
    "from matplotlib.collections import PolyCollection\n",
    "\n",
    "import cv2\n",
    "from PIL import Image"
   ]
  },
  {
   "cell_type": "code",
   "execution_count": 3,
   "metadata": {
    "collapsed": true
   },
   "outputs": [],
   "source": [
    "from world_viewer import WorldViewer"
   ]
  },
  {
   "cell_type": "markdown",
   "metadata": {},
   "source": [
    "This world contains tussoks and trees. For now they have both been coloured black"
   ]
  },
  {
   "cell_type": "code",
   "execution_count": 4,
   "metadata": {
    "collapsed": false
   },
   "outputs": [],
   "source": [
    "world_folder = '/data/treeworld/'\n",
    "world_name = 'worldtrees1'\n",
    "matlab_world  = sio.loadmat(world_folder + world_name + '.mat')"
   ]
  },
  {
   "cell_type": "code",
   "execution_count": 5,
   "metadata": {
    "collapsed": false
   },
   "outputs": [],
   "source": [
    "X = matlab_world['X']\n",
    "Y = matlab_world['Y']\n",
    "Z = matlab_world['Z']"
   ]
  },
  {
   "cell_type": "markdown",
   "metadata": {},
   "source": [
    "Where we want to store saved images. World name is appended to this folder"
   ]
  },
  {
   "cell_type": "code",
   "execution_count": 6,
   "metadata": {
    "collapsed": true
   },
   "outputs": [],
   "source": [
    "image_folder = '../data/world_images'"
   ]
  },
  {
   "cell_type": "code",
   "execution_count": 7,
   "metadata": {
    "collapsed": false
   },
   "outputs": [],
   "source": [
    "# Read in images in grayscale\n",
    "wv = WorldViewer(X=X,\n",
    "                 Y=Y,\n",
    "                 Z=Z,\n",
    "                 c=None,\n",
    "                 resolution=1,\n",
    "                 hfov_deg=360.0,\n",
    "                 v_max=np.pi/2,\n",
    "                 v_min=-np.pi/12,\n",
    "                 data_folder=image_folder,\n",
    "                 world_name=world_name,\n",
    "                 sky_colour='white',\n",
    "                 ground_colour=(0.1, 0.1, 0.1, 1),\n",
    "                 grass_colour='gray')"
   ]
  },
  {
   "cell_type": "code",
   "execution_count": 8,
   "metadata": {
    "collapsed": false
   },
   "outputs": [
    {
     "data": {
      "image/png": "[encoded data removed]",
      "text/plain": [
       "<matplotlib.figure.Figure at 0x7fc206cb3350>"
      ]
     },
     "metadata": {},
     "output_type": "display_data"
    }
   ],
   "source": [
    "fig, ax = plt.subplots(figsize=(12,12))\n",
    "\n",
    "# Add the world polygons (grass and trees)\n",
    "verts = np.dstack((X, Y))\n",
    "p = PolyCollection(verts)\n",
    "ax.add_collection(p)\n",
    "\n",
    "ax.set_xlim([np.min(X), np.max(X)])\n",
    "ax.set_ylim([np.min(Y), np.max(Y)])\n",
    "plt.show()"
   ]
  },
  {
   "cell_type": "markdown",
   "metadata": {},
   "source": [
    "Choose the area that we are going to capture"
   ]
  },
  {
   "cell_type": "code",
   "execution_count": null,
   "metadata": {
    "collapsed": false
   },
   "outputs": [],
   "source": [
    "xmin = 0\n",
    "xmax = 10\n",
    "\n",
    "ymin = 0\n",
    "ymax = 10"
   ]
  },
  {
   "cell_type": "markdown",
   "metadata": {},
   "source": [
    "And the step size between images"
   ]
  },
  {
   "cell_type": "code",
   "execution_count": null,
   "metadata": {
    "collapsed": true
   },
   "outputs": [],
   "source": [
    "step_size = 0.1"
   ]
  },
  {
   "cell_type": "markdown",
   "metadata": {},
   "source": [
    "This is a bit hacky. We added an offset to all the x and y values so that the file names would sort nicely"
   ]
  },
  {
   "cell_type": "code",
   "execution_count": null,
   "metadata": {
    "collapsed": false
   },
   "outputs": [],
   "source": [
    "xoffset = np.abs(xmin)\n",
    "yoffset = np.abs(ymin)"
   ]
  },
  {
   "cell_type": "markdown",
   "metadata": {},
   "source": [
    "Iterate through the grid taking an image at each location and saving it.\n",
    "\n",
    "Todo: ! This is very expensive and we should probably check in the world_viewer class if a file already exists, then skip if it does. (would allow iteratively increasing the resolution of our sampling in a much nicer way."
   ]
  },
  {
   "cell_type": "code",
   "execution_count": null,
   "metadata": {
    "collapsed": false,
    "scrolled": false
   },
   "outputs": [],
   "source": [
    "for x in np.arange(xmin, xmax+step_size, step_size):\n",
    "    for y in np.arange(ymin, ymax+step_size, step_size):\n",
    "        wv.save_view(x=x, y=y, th=0, xoffset=xoffset, yoffset=yoffset)"
   ]
  },
  {
   "cell_type": "markdown",
   "metadata": {},
   "source": [
    "Go through all images and convert from cartesian to polar representation"
   ]
  },
  {
   "cell_type": "code",
   "execution_count": null,
   "metadata": {
    "collapsed": true
   },
   "outputs": [],
   "source": [
    "def cart2polar(x, y):\n",
    "    phi = np.sqrt(x**2 + y**2)\n",
    "    theta = np.arctan2(y, x)\n",
    "    return theta, phi"
   ]
  },
  {
   "cell_type": "code",
   "execution_count": null,
   "metadata": {
    "collapsed": false
   },
   "outputs": [],
   "source": [
    "directory = image_folder + '/' + world_name\n",
    "file_names = sorted(glob.glob('%s/*.%s' % (directory, 'png')))\n",
    "len(file_names)"
   ]
  },
  {
   "cell_type": "markdown",
   "metadata": {},
   "source": [
    "Find the size of images by peeking a the first one."
   ]
  },
  {
   "cell_type": "code",
   "execution_count": null,
   "metadata": {
    "collapsed": true
   },
   "outputs": [],
   "source": [
    "img = Image.open(file_names[0]) # Lazy so won't load into memory\n",
    "w, h = img.size"
   ]
  },
  {
   "cell_type": "markdown",
   "metadata": {},
   "source": [
    "Create a mapping from current coordinates to new ones."
   ]
  },
  {
   "cell_type": "code",
   "execution_count": null,
   "metadata": {
    "collapsed": true
   },
   "outputs": [],
   "source": [
    "x_range = np.linspace (-1, 1, h*2) # We make the radius of our plot the same as the height of current images.\n",
    "xx, yy = np.meshgrid(x_range, x_range)\n",
    "theta, phi = cart2polar(xx, yy)\n",
    "theta = (theta / np.max(theta) + 1) * (w-1)/2\n",
    "phi = phi * (h-1)\n",
    "coords = np.vstack((theta.flatten(), phi.flatten()))"
   ]
  },
  {
   "cell_type": "markdown",
   "metadata": {},
   "source": [
    "Remap each image and save in a subfolder 'w' (for 'wrapped')"
   ]
  },
  {
   "cell_type": "code",
   "execution_count": null,
   "metadata": {
    "collapsed": true
   },
   "outputs": [],
   "source": [
    "def make_sure_path_exists(path):\n",
    "    try:\n",
    "        os.makedirs(path)\n",
    "    except OSError as exception:\n",
    "        if exception.errno != errno.EEXIST:\n",
    "            raise"
   ]
  },
  {
   "cell_type": "code",
   "execution_count": null,
   "metadata": {
    "collapsed": false
   },
   "outputs": [],
   "source": [
    "make_sure_path_exists(directory + \"/w/\")"
   ]
  },
  {
   "cell_type": "code",
   "execution_count": null,
   "metadata": {
    "collapsed": false
   },
   "outputs": [],
   "source": [
    "for file_name in file_names:\n",
    "    new_file = directory + \"/w/\" + os.path.split(file_name)[1]\n",
    "    \n",
    "    if os.path.isfile(new_file) is False:\n",
    "        I = cv2.imread(file_name, 0)\n",
    "        I_wrapped = sp.ndimage.map_coordinates(I.T, coords, order=1).reshape((h*2, h*2))\n",
    "        cv2.imwrite(new_file, I_wrapped)"
   ]
  },
  {
   "cell_type": "markdown",
   "metadata": {},
   "source": [
    "Image looks something like this"
   ]
  },
  {
   "cell_type": "code",
   "execution_count": null,
   "metadata": {
    "collapsed": false
   },
   "outputs": [],
   "source": [
    "plt.imshow(I_wrapped, cmap='gray')"
   ]
  }
 ],
 "metadata": {
  "kernelspec": {
   "display_name": "Python 2",
   "language": "python",
   "name": "python2"
  },
  "language_info": {
   "codemirror_mode": {
    "name": "ipython",
    "version": 2
   },
   "file_extension": ".py",
   "mimetype": "text/x-python",
   "name": "python",
   "nbconvert_exporter": "python",
   "pygments_lexer": "ipython2",
   "version": "2.7.12"
  }
 },
 "nbformat": 4,
 "nbformat_minor": 0
}
